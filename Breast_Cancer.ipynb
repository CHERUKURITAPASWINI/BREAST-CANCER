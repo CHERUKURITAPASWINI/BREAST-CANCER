{
  "cells": [
    {
      "cell_type": "code",
      "source": [
        "import pandas as pd\n",
        "\n",
        "# Load the dataset\n",
        "data = pd.read_csv('./breast cancer.csv')\n",
        "\n",
        "print(\"Data Imported:\")\n",
        "print(data.head())\n",
        "\n",
        "#Drop the columns which are not used in the analysis - id, Unnamed - 32\n",
        "print(\"Data after dropping columns that are not required:\")\n",
        "data =data.drop(['id','Unnamed: 32'], axis=1)\n",
        "print(data.head())"
      ],
      "metadata": {
        "colab": {
          "base_uri": "https://localhost:8080/"
        },
        "id": "a-89sXmNSZwF",
        "outputId": "bf05a431-081a-464b-d355-37f2b94d618a"
      },
      "execution_count": 47,
      "outputs": [
        {
          "output_type": "stream",
          "name": "stdout",
          "text": [
            "Data Imported:\n",
            "         id diagnosis  radius_mean  texture_mean  perimeter_mean  area_mean  \\\n",
            "0    842302         M        17.99         10.38          122.80     1001.0   \n",
            "1    842517         M        20.57         17.77          132.90     1326.0   \n",
            "2  84300903         M        19.69         21.25          130.00     1203.0   \n",
            "3  84348301         M        11.42         20.38           77.58      386.1   \n",
            "4  84358402         M        20.29         14.34          135.10     1297.0   \n",
            "\n",
            "   smoothness_mean  compactness_mean  concavity_mean  concave points_mean  \\\n",
            "0          0.11840           0.27760          0.3001              0.14710   \n",
            "1          0.08474           0.07864          0.0869              0.07017   \n",
            "2          0.10960           0.15990          0.1974              0.12790   \n",
            "3          0.14250           0.28390          0.2414              0.10520   \n",
            "4          0.10030           0.13280          0.1980              0.10430   \n",
            "\n",
            "   ...  texture_worst  perimeter_worst  area_worst  smoothness_worst  \\\n",
            "0  ...          17.33           184.60      2019.0            0.1622   \n",
            "1  ...          23.41           158.80      1956.0            0.1238   \n",
            "2  ...          25.53           152.50      1709.0            0.1444   \n",
            "3  ...          26.50            98.87       567.7            0.2098   \n",
            "4  ...          16.67           152.20      1575.0            0.1374   \n",
            "\n",
            "   compactness_worst  concavity_worst  concave points_worst  symmetry_worst  \\\n",
            "0             0.6656           0.7119                0.2654          0.4601   \n",
            "1             0.1866           0.2416                0.1860          0.2750   \n",
            "2             0.4245           0.4504                0.2430          0.3613   \n",
            "3             0.8663           0.6869                0.2575          0.6638   \n",
            "4             0.2050           0.4000                0.1625          0.2364   \n",
            "\n",
            "   fractal_dimension_worst  Unnamed: 32  \n",
            "0                  0.11890          NaN  \n",
            "1                  0.08902          NaN  \n",
            "2                  0.08758          NaN  \n",
            "3                  0.17300          NaN  \n",
            "4                  0.07678          NaN  \n",
            "\n",
            "[5 rows x 33 columns]\n",
            "Data after dropping columns that are not required:\n",
            "  diagnosis  radius_mean  texture_mean  perimeter_mean  area_mean  \\\n",
            "0         M        17.99         10.38          122.80     1001.0   \n",
            "1         M        20.57         17.77          132.90     1326.0   \n",
            "2         M        19.69         21.25          130.00     1203.0   \n",
            "3         M        11.42         20.38           77.58      386.1   \n",
            "4         M        20.29         14.34          135.10     1297.0   \n",
            "\n",
            "   smoothness_mean  compactness_mean  concavity_mean  concave points_mean  \\\n",
            "0          0.11840           0.27760          0.3001              0.14710   \n",
            "1          0.08474           0.07864          0.0869              0.07017   \n",
            "2          0.10960           0.15990          0.1974              0.12790   \n",
            "3          0.14250           0.28390          0.2414              0.10520   \n",
            "4          0.10030           0.13280          0.1980              0.10430   \n",
            "\n",
            "   symmetry_mean  ...  radius_worst  texture_worst  perimeter_worst  \\\n",
            "0         0.2419  ...         25.38          17.33           184.60   \n",
            "1         0.1812  ...         24.99          23.41           158.80   \n",
            "2         0.2069  ...         23.57          25.53           152.50   \n",
            "3         0.2597  ...         14.91          26.50            98.87   \n",
            "4         0.1809  ...         22.54          16.67           152.20   \n",
            "\n",
            "   area_worst  smoothness_worst  compactness_worst  concavity_worst  \\\n",
            "0      2019.0            0.1622             0.6656           0.7119   \n",
            "1      1956.0            0.1238             0.1866           0.2416   \n",
            "2      1709.0            0.1444             0.4245           0.4504   \n",
            "3       567.7            0.2098             0.8663           0.6869   \n",
            "4      1575.0            0.1374             0.2050           0.4000   \n",
            "\n",
            "   concave points_worst  symmetry_worst  fractal_dimension_worst  \n",
            "0                0.2654          0.4601                  0.11890  \n",
            "1                0.1860          0.2750                  0.08902  \n",
            "2                0.2430          0.3613                  0.08758  \n",
            "3                0.2575          0.6638                  0.17300  \n",
            "4                0.1625          0.2364                  0.07678  \n",
            "\n",
            "[5 rows x 31 columns]\n"
          ]
        }
      ]
    },
    {
      "cell_type": "code",
      "source": [
        "from sklearn.model_selection import train_test_split\n",
        "\n",
        "# Preprocessing\n",
        "X = data.drop(['diagnosis'], axis=1)\n",
        "y = data['diagnosis']\n",
        "\n",
        "# Splitting the dataset into training and testing sets\n",
        "X_train, X_test, y_train, y_test = train_test_split(X, y, test_size=0.2, random_state=42)\n",
        "\n",
        "# Print shapes of datasets\n",
        "print(\"Shape of X_train:\", X_train.shape)\n",
        "print(\"Shape of X_test:\", X_test.shape)\n",
        "print(\"Shape of y_train:\", y_train.shape)\n",
        "print(\"Shape of y_test:\", y_test.shape)"
      ],
      "metadata": {
        "colab": {
          "base_uri": "https://localhost:8080/"
        },
        "id": "MPxCrl0kSsaN",
        "outputId": "d1a48d3a-2ab5-4801-ad47-cfb412038789"
      },
      "execution_count": 48,
      "outputs": [
        {
          "output_type": "stream",
          "name": "stdout",
          "text": [
            "Shape of X_train: (455, 30)\n",
            "Shape of X_test: (114, 30)\n",
            "Shape of y_train: (455,)\n",
            "Shape of y_test: (114,)\n"
          ]
        }
      ]
    },
    {
      "cell_type": "code",
      "source": [
        "from sklearn.preprocessing import StandardScaler\n",
        "\n",
        "# scales the data and converts them into the arrays form as required by the models.\n",
        "scaler = StandardScaler()\n",
        "X_train = scaler.fit_transform(X_train)\n",
        "X_test = scaler.transform(X_test)\n",
        "\n",
        "# Display the first few rows of the scaled training set\n",
        "print(X_train)"
      ],
      "metadata": {
        "colab": {
          "base_uri": "https://localhost:8080/"
        },
        "id": "FLtBlZZCS6wU",
        "outputId": "76fd3195-9d29-4f3f-b126-61b4a5ebaba9"
      },
      "execution_count": 49,
      "outputs": [
        {
          "output_type": "stream",
          "name": "stdout",
          "text": [
            "[[-1.44075296 -0.43531947 -1.36208497 ...  0.9320124   2.09724217\n",
            "   1.88645014]\n",
            " [ 1.97409619  1.73302577  2.09167167 ...  2.6989469   1.89116053\n",
            "   2.49783848]\n",
            " [-1.39998202 -1.24962228 -1.34520926 ... -0.97023893  0.59760192\n",
            "   0.0578942 ]\n",
            " ...\n",
            " [ 0.04880192 -0.55500086 -0.06512547 ... -1.23903365 -0.70863864\n",
            "  -1.27145475]\n",
            " [-0.03896885  0.10207345 -0.03137406 ...  1.05001236  0.43432185\n",
            "   1.21336207]\n",
            " [-0.54860557  0.31327591 -0.60350155 ... -0.61102866 -0.3345212\n",
            "  -0.84628745]]\n"
          ]
        }
      ]
    },
    {
      "cell_type": "code",
      "source": [
        "print(\"Target values before:\\n\")\n",
        "print(y_train.head())\n",
        "\n",
        "# convert the target values into 0 and 1 (binary classification)\n",
        "# M:1 and B:0\n",
        "y_train = y_train.replace({'M': 1, 'B': 0})\n",
        "y_test = y_test.replace({'M': 1, 'B': 0})\n",
        "\n",
        "print(\"Target values after conversion into 0 and 1:\\n\")\n",
        "print(y_train.head())"
      ],
      "metadata": {
        "colab": {
          "base_uri": "https://localhost:8080/"
        },
        "id": "JZVAX-QyTCYi",
        "outputId": "52c9f445-d4ca-4c2d-9ef9-5ae343ac7a05"
      },
      "execution_count": 50,
      "outputs": [
        {
          "output_type": "stream",
          "name": "stdout",
          "text": [
            "Target values before:\n",
            "\n",
            "68     B\n",
            "181    M\n",
            "63     B\n",
            "248    B\n",
            "60     B\n",
            "Name: diagnosis, dtype: object\n",
            "Target values after conversion into 0 and 1:\n",
            "\n",
            "68     0\n",
            "181    1\n",
            "63     0\n",
            "248    0\n",
            "60     0\n",
            "Name: diagnosis, dtype: int64\n"
          ]
        }
      ]
    },
    {
      "cell_type": "markdown",
      "source": [
        "Implementation of Logistic regression."
      ],
      "metadata": {
        "id": "xBDdrFTuTGC0"
      }
    },
    {
      "cell_type": "code",
      "source": [
        "import numpy as np\n",
        "\n",
        "# defining the sigmoid function\n",
        "def sigmoid(x):\n",
        "    return 1/(1+np.exp(-x))\n",
        "\n",
        "class LogisticRegression():\n",
        "    # intialising the learning rates and number of iterations.\n",
        "    def __init__(self, learnRate=0.01, iterations=1000):\n",
        "        self.lr = learnRate\n",
        "        self.iter = iterations\n",
        "        self.weights = None\n",
        "        self.bias = None\n",
        "\n",
        "    # built the model by performing iterations and updating the weights.\n",
        "    def fit(self, X, y):\n",
        "        samples, features = X.shape\n",
        "        self.weights = np.zeros(features)\n",
        "        self.bias = 0\n",
        "\n",
        "        for _ in range(self.iter):\n",
        "            linear_function = np.dot(X,self.weights)+self.bias\n",
        "            predictions = sigmoid(linear_function)\n",
        "\n",
        "            dw= (1/samples)*np.dot(X.T, (predictions - y))\n",
        "            db = (1/samples)*np.sum(predictions-y)\n",
        "\n",
        "            self.weights = self.weights - self.lr*dw\n",
        "            self.bias = self.bias - self.lr*db\n",
        "\n",
        "    # to make predictions on the test data.\n",
        "    def predict(self, X):\n",
        "        linear_function = np.dot(X, self.weights)+self.bias\n",
        "        y_pred = sigmoid(linear_function)\n",
        "        class_pred = [0 if y<=0.5 else 1 for y in y_pred]\n",
        "        return class_pred"
      ],
      "metadata": {
        "id": "_bjQ1zH7TIYg"
      },
      "execution_count": 51,
      "outputs": []
    },
    {
      "cell_type": "code",
      "source": [
        "# Creating an instance of LogisticRegression\n",
        "\n",
        "logReg_model = LogisticRegression()\n",
        "logReg_model.fit(X_train, y_train)\n",
        "logReg_pred = logReg_model.predict(X_test)"
      ],
      "metadata": {
        "id": "XpyJd3J9TPBv"
      },
      "execution_count": 52,
      "outputs": []
    },
    {
      "cell_type": "markdown",
      "source": [
        "Implementation of SVM.\n"
      ],
      "metadata": {
        "id": "XkkTDXB2TR9Q"
      }
    },
    {
      "cell_type": "code",
      "source": [
        "from sklearn.svm import SVC\n",
        "\n",
        "svm_model = SVC(kernel='linear')\n",
        "svm_model.fit(X_train,y_train)\n",
        "svm_pred = svm_model.predict(X_test)\n"
      ],
      "metadata": {
        "id": "yfHOM3CATRQZ"
      },
      "execution_count": 53,
      "outputs": []
    },
    {
      "cell_type": "markdown",
      "source": [
        "Implementation of Neural Network"
      ],
      "metadata": {
        "id": "bmy7d_yjTh8x"
      }
    },
    {
      "cell_type": "code",
      "source": [
        "\n",
        "from sklearn.neural_network import MLPClassifier\n",
        "\n",
        "nn_model = MLPClassifier(hidden_layer_sizes=(100, 50), max_iter=500)\n",
        "nn_model.fit(X_train, y_train)\n",
        "nn_pred = nn_model.predict(X_test)"
      ],
      "metadata": {
        "id": "0z_ZP4M2Te1d"
      },
      "execution_count": 54,
      "outputs": []
    },
    {
      "cell_type": "markdown",
      "source": [
        "Printing the results"
      ],
      "metadata": {
        "id": "cxg7yAohTolu"
      }
    },
    {
      "cell_type": "code",
      "source": [
        "from sklearn.metrics import accuracy_score, precision_score, recall_score\n",
        "\n",
        "models = [logReg_model, svm_model, nn_model]\n",
        "model_names = ['Logistic Regression', 'SVM', 'Neural Network']\n",
        "\n",
        "for model, name in zip(models, model_names):\n",
        "    # Make predictions\n",
        "    predictions = model.predict(X_test)\n",
        "\n",
        "    # Calculate metrics\n",
        "    accuracy = accuracy_score(y_test, predictions)\n",
        "    precision = precision_score(y_test, predictions)\n",
        "    recall = recall_score(y_test, predictions)\n",
        "\n",
        "    # Print metrics for the current model\n",
        "    print(f\"Metrics for {name}:\")\n",
        "    print(\"Accuracy:\", accuracy)\n",
        "    print(\"Precision:\", precision)\n",
        "    print(\"Recall:\", recall)\n",
        "    print(\"\\n\")"
      ],
      "metadata": {
        "colab": {
          "base_uri": "https://localhost:8080/"
        },
        "id": "spGYTyquToKA",
        "outputId": "01bab735-3417-4109-b98e-506869cc5e77"
      },
      "execution_count": 55,
      "outputs": [
        {
          "output_type": "stream",
          "name": "stdout",
          "text": [
            "Metrics for Logistic Regression:\n",
            "Accuracy: 0.9824561403508771\n",
            "Precision: 0.9767441860465116\n",
            "Recall: 0.9767441860465116\n",
            "\n",
            "\n",
            "Metrics for SVM:\n",
            "Accuracy: 0.956140350877193\n",
            "Precision: 0.9318181818181818\n",
            "Recall: 0.9534883720930233\n",
            "\n",
            "\n",
            "Metrics for Neural Network:\n",
            "Accuracy: 0.9736842105263158\n",
            "Precision: 0.9761904761904762\n",
            "Recall: 0.9534883720930233\n",
            "\n",
            "\n"
          ]
        }
      ]
    },
    {
      "cell_type": "code",
      "source": [
        "import matplotlib.pyplot as plt\n",
        "from sklearn.metrics import confusion_matrix\n",
        "\n",
        "conf_matrix_logReg = confusion_matrix(y_test, logReg_pred)\n",
        "conf_matrix_svm = confusion_matrix(y_test, svm_pred)\n",
        "conf_matrix_nn = confusion_matrix(y_test, nn_pred)\n",
        "\n",
        "# Plotting confusion matrices\n",
        "plt.figure(figsize=(15, 5))\n",
        "\n",
        "# Logistic Regression Confusion Matrix\n",
        "plt.subplot(1, 3, 1)\n",
        "plt.imshow(conf_matrix_logReg, cmap=plt.cm.Reds)\n",
        "plt.title('Logistic Regression Confusion Matrix')\n",
        "plt.colorbar()\n",
        "plt.xticks([0, 1], ['Benign', 'Malignant'])\n",
        "plt.yticks([0, 1], ['Benign', 'Malignant'])\n",
        "plt.xlabel('Predicted')\n",
        "plt.ylabel('True')\n",
        "\n",
        "# Fill the confusion matrix cells with values for Logistic Regression\n",
        "for i in range(2):\n",
        "    for j in range(2):\n",
        "        plt.text(j, i, conf_matrix_logReg[i, j], ha='center', va='center', color='white')\n",
        "\n",
        "\n",
        "# SVM Confusion Matrix\n",
        "plt.subplot(1, 3, 2)\n",
        "plt.imshow(conf_matrix_svm, cmap=plt.cm.Greens)\n",
        "plt.title('SVM Confusion Matrix')\n",
        "plt.colorbar()\n",
        "plt.xticks([0, 1], ['Benign', 'Malignant'])\n",
        "plt.yticks([0, 1], ['Benign', 'Malignant'])\n",
        "plt.xlabel('Predicted')\n",
        "plt.ylabel('True')\n",
        "\n",
        "# Fill the confusion matrix cells with values for SVM\n",
        "for i in range(2):\n",
        "    for j in range(2):\n",
        "        plt.text(j, i, conf_matrix_svm[i, j], ha='center', va='center', color='white')\n",
        "\n",
        "# Neural Network Confusion Matrix\n",
        "plt.subplot(1, 3, 3)\n",
        "plt.imshow(conf_matrix_nn, cmap=plt.cm.Blues)\n",
        "plt.title('Neural Network Confusion Matrix')\n",
        "plt.colorbar()\n",
        "plt.xticks([0, 1], ['Benign', 'Malignant'])\n",
        "plt.yticks([0, 1], ['Benign', 'Malignant'])\n",
        "plt.xlabel('Predicted')\n",
        "plt.ylabel('True')\n",
        "\n",
        "# Fill the confusion matrix cells with values for Neural Network\n",
        "for i in range(2):\n",
        "    for j in range(2):\n",
        "        plt.text(j, i, conf_matrix_nn[i, j], ha='center', va='center', color='white')\n",
        "\n",
        "plt.tight_layout()\n",
        "plt.show()"
      ],
      "metadata": {
        "colab": {
          "base_uri": "https://localhost:8080/",
          "height": 527
        },
        "id": "JlYLji93T78u",
        "outputId": "90fcec12-f849-455a-a756-b68a2373f0d7"
      },
      "execution_count": 56,
      "outputs": [
        {
          "output_type": "display_data",
          "data": {
            "text/plain": [
              "<Figure size 1500x500 with 6 Axes>"
            ],
            "image/png": "[encoded data removed]"
          },
          "metadata": {}
        }
      ]
    },
    {
      "cell_type": "markdown",
      "source": [
        "Conclusion:\n",
        "Logistic Regression performs the best among the three models based on the provided metrics (accuracy, precision, and recall). It exhibits the highest accuracy, precision, and recall compared to SVM and Neural Network.\n",
        "\n",
        "For a dataset that involves classifying breast tumor data into benign or malignant categories, where high accuracy and precision are crucial in correctly identifying malignant tumors while minimizing false positives, Logistic Regression seems to be the most suitable model among the three evaluated.\n",
        "\n",
        "The Logistic Regression model demonstrates robust performance in classifying the biopsy reports into the two classes (malignant and benign) based on the features provided in the dataset\n",
        "\n",
        "Logistic Regression appears to be the preferred model due to its superior overall performance in accurately classifying benign and malignant tumors, as reflected in the higher accuracy, precision, and recall values compared to SVM and Neural Network."
      ],
      "metadata": {
        "id": "GNZqKgpEUHSC"
      }
    },
    {
      "cell_type": "code",
      "source": [],
      "metadata": {
        "id": "IweZzEltUF30"
      },
      "execution_count": null,
      "outputs": []
    }
  ],
  "metadata": {
    "colab": {
      "name": "Welcome To Colab",
      "provenance": []
    },
    "kernelspec": {
      "display_name": "Python 3",
      "name": "python3"
    }
  },
  "nbformat": 4,
  "nbformat_minor": 0
}